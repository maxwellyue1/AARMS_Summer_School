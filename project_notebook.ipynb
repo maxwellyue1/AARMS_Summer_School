{
 "cells": [
  {
   "cell_type": "code",
   "execution_count": 2,
   "metadata": {},
   "outputs": [],
   "source": [
    "import pandas as pd\n",
    "import numpy as np\n",
    "import matplotlib.pyplot as plt\n",
    "from sklearn.linear_model import LinearRegression"
   ]
  },
  {
   "cell_type": "markdown",
   "metadata": {},
   "source": [
    "### Load Datasets"
   ]
  },
  {
   "cell_type": "code",
   "execution_count": 3,
   "metadata": {},
   "outputs": [],
   "source": [
    "\n",
    "\n",
    "# Read the CSV file into a DataFrame\n",
    "mask_dataset = pd.read_csv('Mask_use_data_ON_2020.csv')\n",
    "OxGRT_dataset = pd.read_csv(\"OxGRT_Index_ON_2020.csv\")\n",
    "\n",
    "mobility_dataset = pd.read_csv(\"Mobility_Data_ON_2020.csv\")\n",
    "hospitality_dataset = pd.read_csv(\"region_hospital_icu_covid_data.csv\")\n"
   ]
  },
  {
   "cell_type": "code",
   "execution_count": 4,
   "metadata": {},
   "outputs": [],
   "source": [
    "def convert_date(date_string): \n",
    "    '''\n",
    "    change the date fomat yyyy-mm-dd to yyyymmdd\n",
    "    '''\n",
    "    return ''.join(filter(str.isdigit, date_string))\n",
    "\n",
    "\n"
   ]
  },
  {
   "cell_type": "markdown",
   "metadata": {},
   "source": [
    "### OxGRT v.s. Mask"
   ]
  },
  {
   "cell_type": "code",
   "execution_count": 5,
   "metadata": {},
   "outputs": [
    {
     "data": {
      "text/plain": [
       "0      20200101\n",
       "1      20200102\n",
       "2      20200103\n",
       "3      20200104\n",
       "4      20200105\n",
       "         ...   \n",
       "361    20201227\n",
       "362    20201228\n",
       "363    20201229\n",
       "364    20201230\n",
       "365    20201231\n",
       "Name: Date, Length: 366, dtype: int64"
      ]
     },
     "execution_count": 5,
     "metadata": {},
     "output_type": "execute_result"
    }
   ],
   "source": [
    "OxGRT_dataset['Date']"
   ]
  },
  {
   "cell_type": "code",
   "execution_count": 6,
   "metadata": {},
   "outputs": [],
   "source": [
    "mask_dataset['date'] = mask_dataset['date'].apply(convert_date).astype(int)\n",
    "OxGRT_dataset['Date'] = OxGRT_dataset['Date'].astype(int)\n",
    "\n",
    "mask_dataset = mask_dataset.dropna(subset=['mask_use_mean'])\n",
    "OxGRT_dataset = OxGRT_dataset.dropna(subset=['StringencyIndex'])"
   ]
  },
  {
   "cell_type": "code",
   "execution_count": 7,
   "metadata": {},
   "outputs": [
    {
     "data": {
      "text/html": [
       "<div>\n",
       "<style scoped>\n",
       "    .dataframe tbody tr th:only-of-type {\n",
       "        vertical-align: middle;\n",
       "    }\n",
       "\n",
       "    .dataframe tbody tr th {\n",
       "        vertical-align: top;\n",
       "    }\n",
       "\n",
       "    .dataframe thead th {\n",
       "        text-align: right;\n",
       "    }\n",
       "</style>\n",
       "<table border=\"1\" class=\"dataframe\">\n",
       "  <thead>\n",
       "    <tr style=\"text-align: right;\">\n",
       "      <th></th>\n",
       "      <th>location_id</th>\n",
       "      <th>date</th>\n",
       "      <th>version_name</th>\n",
       "      <th>location_name</th>\n",
       "      <th>mask_use_mean</th>\n",
       "      <th>mask_use_obs</th>\n",
       "    </tr>\n",
       "  </thead>\n",
       "  <tbody>\n",
       "    <tr>\n",
       "      <th>0</th>\n",
       "      <td>43866</td>\n",
       "      <td>20200204</td>\n",
       "      <td>reference</td>\n",
       "      <td>Ontario</td>\n",
       "      <td>0.0028</td>\n",
       "      <td>1.0</td>\n",
       "    </tr>\n",
       "    <tr>\n",
       "      <th>1</th>\n",
       "      <td>43866</td>\n",
       "      <td>20200205</td>\n",
       "      <td>reference</td>\n",
       "      <td>Ontario</td>\n",
       "      <td>0.0044</td>\n",
       "      <td>1.0</td>\n",
       "    </tr>\n",
       "    <tr>\n",
       "      <th>2</th>\n",
       "      <td>43866</td>\n",
       "      <td>20200206</td>\n",
       "      <td>reference</td>\n",
       "      <td>Ontario</td>\n",
       "      <td>0.0064</td>\n",
       "      <td>1.0</td>\n",
       "    </tr>\n",
       "    <tr>\n",
       "      <th>3</th>\n",
       "      <td>43866</td>\n",
       "      <td>20200207</td>\n",
       "      <td>reference</td>\n",
       "      <td>Ontario</td>\n",
       "      <td>0.0089</td>\n",
       "      <td>1.0</td>\n",
       "    </tr>\n",
       "    <tr>\n",
       "      <th>4</th>\n",
       "      <td>43866</td>\n",
       "      <td>20200208</td>\n",
       "      <td>reference</td>\n",
       "      <td>Ontario</td>\n",
       "      <td>0.0117</td>\n",
       "      <td>1.0</td>\n",
       "    </tr>\n",
       "    <tr>\n",
       "      <th>...</th>\n",
       "      <td>...</td>\n",
       "      <td>...</td>\n",
       "      <td>...</td>\n",
       "      <td>...</td>\n",
       "      <td>...</td>\n",
       "      <td>...</td>\n",
       "    </tr>\n",
       "    <tr>\n",
       "      <th>326</th>\n",
       "      <td>43866</td>\n",
       "      <td>20201226</td>\n",
       "      <td>reference</td>\n",
       "      <td>Ontario</td>\n",
       "      <td>0.8585</td>\n",
       "      <td>1.0</td>\n",
       "    </tr>\n",
       "    <tr>\n",
       "      <th>327</th>\n",
       "      <td>43866</td>\n",
       "      <td>20201227</td>\n",
       "      <td>reference</td>\n",
       "      <td>Ontario</td>\n",
       "      <td>0.8568</td>\n",
       "      <td>1.0</td>\n",
       "    </tr>\n",
       "    <tr>\n",
       "      <th>328</th>\n",
       "      <td>43866</td>\n",
       "      <td>20201228</td>\n",
       "      <td>reference</td>\n",
       "      <td>Ontario</td>\n",
       "      <td>0.8553</td>\n",
       "      <td>1.0</td>\n",
       "    </tr>\n",
       "    <tr>\n",
       "      <th>329</th>\n",
       "      <td>43866</td>\n",
       "      <td>20201229</td>\n",
       "      <td>reference</td>\n",
       "      <td>Ontario</td>\n",
       "      <td>0.8540</td>\n",
       "      <td>1.0</td>\n",
       "    </tr>\n",
       "    <tr>\n",
       "      <th>330</th>\n",
       "      <td>43866</td>\n",
       "      <td>20201230</td>\n",
       "      <td>reference</td>\n",
       "      <td>Ontario</td>\n",
       "      <td>0.8528</td>\n",
       "      <td>1.0</td>\n",
       "    </tr>\n",
       "  </tbody>\n",
       "</table>\n",
       "<p>331 rows × 6 columns</p>\n",
       "</div>"
      ],
      "text/plain": [
       "     location_id      date version_name location_name  mask_use_mean  \\\n",
       "0          43866  20200204    reference       Ontario         0.0028   \n",
       "1          43866  20200205    reference       Ontario         0.0044   \n",
       "2          43866  20200206    reference       Ontario         0.0064   \n",
       "3          43866  20200207    reference       Ontario         0.0089   \n",
       "4          43866  20200208    reference       Ontario         0.0117   \n",
       "..           ...       ...          ...           ...            ...   \n",
       "326        43866  20201226    reference       Ontario         0.8585   \n",
       "327        43866  20201227    reference       Ontario         0.8568   \n",
       "328        43866  20201228    reference       Ontario         0.8553   \n",
       "329        43866  20201229    reference       Ontario         0.8540   \n",
       "330        43866  20201230    reference       Ontario         0.8528   \n",
       "\n",
       "     mask_use_obs  \n",
       "0             1.0  \n",
       "1             1.0  \n",
       "2             1.0  \n",
       "3             1.0  \n",
       "4             1.0  \n",
       "..            ...  \n",
       "326           1.0  \n",
       "327           1.0  \n",
       "328           1.0  \n",
       "329           1.0  \n",
       "330           1.0  \n",
       "\n",
       "[331 rows x 6 columns]"
      ]
     },
     "execution_count": 7,
     "metadata": {},
     "output_type": "execute_result"
    }
   ],
   "source": [
    "mask_dataset"
   ]
  },
  {
   "cell_type": "code",
   "execution_count": 8,
   "metadata": {},
   "outputs": [
    {
     "data": {
      "text/plain": [
       "(331, 366)"
      ]
     },
     "execution_count": 8,
     "metadata": {},
     "output_type": "execute_result"
    }
   ],
   "source": [
    "len(mask_dataset['date']), len(OxGRT_dataset['Date'])"
   ]
  },
  {
   "cell_type": "code",
   "execution_count": 9,
   "metadata": {},
   "outputs": [],
   "source": [
    "# convert to np array with int entries\n",
    "mask_date = np.array(mask_dataset['date'])\n",
    "OxGRT_date = np.array(OxGRT_dataset['Date'])\n",
    "# finding the indexes with identical entries\n",
    "\n",
    "identical_dates = np.intersect1d(mask_date, OxGRT_date)\n",
    "indexes_in_mask_dataset = np.where(np.isin(mask_date, identical_dates))[0]\n",
    "indexes_in_OxGRT_dataset = np.where(np.isin(OxGRT_date, identical_dates))[0]"
   ]
  },
  {
   "cell_type": "code",
   "execution_count": 10,
   "metadata": {},
   "outputs": [
    {
     "name": "stdout",
     "output_type": "stream",
     "text": [
      "The starting date: 20200204. \n",
      " The end date: 20201230\n"
     ]
    }
   ],
   "source": [
    "# common dates between valid mask_date \n",
    "print(f'The starting date: {min(identical_dates)}. \\n The end date: {max(identical_dates)}')"
   ]
  },
  {
   "cell_type": "code",
   "execution_count": 11,
   "metadata": {},
   "outputs": [],
   "source": [
    "mask = np.array(mask_dataset['mask_use_mean'][indexes_in_mask_dataset])\n",
    "OxGRT = np.array(OxGRT_dataset['StringencyIndex'][indexes_in_OxGRT_dataset])"
   ]
  },
  {
   "cell_type": "code",
   "execution_count": null,
   "metadata": {},
   "outputs": [],
   "source": []
  },
  {
   "cell_type": "code",
   "execution_count": 12,
   "metadata": {},
   "outputs": [],
   "source": [
    "assert np.array_equal(mask_date[indexes_in_mask_dataset], OxGRT_date[indexes_in_OxGRT_dataset])"
   ]
  },
  {
   "cell_type": "code",
   "execution_count": 13,
   "metadata": {},
   "outputs": [
    {
     "data": {
      "text/plain": [
       "Text(0, 0.5, 'mask_use_mean')"
      ]
     },
     "execution_count": 13,
     "metadata": {},
     "output_type": "execute_result"
    },
    {
     "data": {
      "image/png": "[encoded data removed]",
      "text/plain": [
       "<Figure size 640x480 with 1 Axes>"
      ]
     },
     "metadata": {},
     "output_type": "display_data"
    }
   ],
   "source": [
    "\n",
    "\n",
    "plt.scatter(mask_date[indexes_in_mask_dataset], mask,s=5, alpha=0.3)\n",
    "\n",
    "plt.xlabel('dates')\n",
    "plt.ylabel('mask_use_mean')"
   ]
  },
  {
   "cell_type": "code",
   "execution_count": 14,
   "metadata": {},
   "outputs": [
    {
     "data": {
      "text/plain": [
       "Text(0, 0.5, 'OxGRT')"
      ]
     },
     "execution_count": 14,
     "metadata": {},
     "output_type": "execute_result"
    },
    {
     "data": {
      "image/png": "[encoded data removed]",
      "text/plain": [
       "<Figure size 640x480 with 1 Axes>"
      ]
     },
     "metadata": {},
     "output_type": "display_data"
    }
   ],
   "source": [
    "plt.scatter(OxGRT_date[indexes_in_OxGRT_dataset], OxGRT, s=5, alpha=0.3)\n",
    "\n",
    "plt.xlabel('dates')\n",
    "plt.ylabel('OxGRT')"
   ]
  },
  {
   "cell_type": "code",
   "execution_count": 15,
   "metadata": {},
   "outputs": [
    {
     "data": {
      "text/plain": [
       "0.36212293193720274"
      ]
     },
     "execution_count": 15,
     "metadata": {},
     "output_type": "execute_result"
    }
   ],
   "source": [
    "r_mask_OxGRT = np.corrcoef(mask, OxGRT)[0,1]\n",
    "r_mask_OxGRT"
   ]
  },
  {
   "cell_type": "code",
   "execution_count": 37,
   "metadata": {},
   "outputs": [],
   "source": [
    "# Linear regression to compute r_c\n",
    "OxGRT = OxGRT.reshape(-1,1)\n",
    "modelc = LinearRegression().fit(OxGRT, mask)\n"
   ]
  },
  {
   "cell_type": "code",
   "execution_count": 38,
   "metadata": {},
   "outputs": [
    {
     "name": "stdout",
     "output_type": "stream",
     "text": [
      "coefficient of determination: 0.13113301783479658\n"
     ]
    }
   ],
   "source": [
    "print(f\"coefficient of determination: {modelc.score(OxGRT, mask)}\")"
   ]
  },
  {
   "cell_type": "code",
   "execution_count": 39,
   "metadata": {},
   "outputs": [
    {
     "data": {
      "text/plain": [
       "(array([0.00642185]), 0.13977373201910803)"
      ]
     },
     "execution_count": 39,
     "metadata": {},
     "output_type": "execute_result"
    }
   ],
   "source": [
    "modelc.coef_, modelc.intercept_"
   ]
  },
  {
   "cell_type": "code",
   "execution_count": null,
   "metadata": {},
   "outputs": [],
   "source": [
    "rc = modelc.intercept_"
   ]
  },
  {
   "cell_type": "markdown",
   "metadata": {},
   "source": [
    "### Mobility v.s Hopitality"
   ]
  },
  {
   "cell_type": "code",
   "execution_count": 20,
   "metadata": {},
   "outputs": [
    {
     "data": {
      "text/html": [
       "<div>\n",
       "<style scoped>\n",
       "    .dataframe tbody tr th:only-of-type {\n",
       "        vertical-align: middle;\n",
       "    }\n",
       "\n",
       "    .dataframe tbody tr th {\n",
       "        vertical-align: top;\n",
       "    }\n",
       "\n",
       "    .dataframe thead th {\n",
       "        text-align: right;\n",
       "    }\n",
       "</style>\n",
       "<table border=\"1\" class=\"dataframe\">\n",
       "  <thead>\n",
       "    <tr style=\"text-align: right;\">\n",
       "      <th></th>\n",
       "      <th>date</th>\n",
       "      <th>oh_region</th>\n",
       "      <th>icu_current_covid</th>\n",
       "      <th>icu_current_covid_vented</th>\n",
       "      <th>hospitalizations</th>\n",
       "      <th>icu_crci_total</th>\n",
       "      <th>icu_crci_total_vented</th>\n",
       "      <th>icu_former_covid</th>\n",
       "      <th>icu_former_covid_vented</th>\n",
       "    </tr>\n",
       "  </thead>\n",
       "  <tbody>\n",
       "    <tr>\n",
       "      <th>0</th>\n",
       "      <td>2020-04-02</td>\n",
       "      <td>CENTRAL</td>\n",
       "      <td>51</td>\n",
       "      <td>39</td>\n",
       "      <td>113</td>\n",
       "      <td>0</td>\n",
       "      <td>0</td>\n",
       "      <td>0</td>\n",
       "      <td>0</td>\n",
       "    </tr>\n",
       "    <tr>\n",
       "      <th>1</th>\n",
       "      <td>2020-04-03</td>\n",
       "      <td>CENTRAL</td>\n",
       "      <td>57</td>\n",
       "      <td>52</td>\n",
       "      <td>141</td>\n",
       "      <td>0</td>\n",
       "      <td>0</td>\n",
       "      <td>0</td>\n",
       "      <td>0</td>\n",
       "    </tr>\n",
       "    <tr>\n",
       "      <th>2</th>\n",
       "      <td>2020-04-04</td>\n",
       "      <td>CENTRAL</td>\n",
       "      <td>65</td>\n",
       "      <td>57</td>\n",
       "      <td>143</td>\n",
       "      <td>0</td>\n",
       "      <td>0</td>\n",
       "      <td>0</td>\n",
       "      <td>0</td>\n",
       "    </tr>\n",
       "    <tr>\n",
       "      <th>3</th>\n",
       "      <td>2020-04-05</td>\n",
       "      <td>CENTRAL</td>\n",
       "      <td>65</td>\n",
       "      <td>55</td>\n",
       "      <td>174</td>\n",
       "      <td>0</td>\n",
       "      <td>0</td>\n",
       "      <td>0</td>\n",
       "      <td>0</td>\n",
       "    </tr>\n",
       "    <tr>\n",
       "      <th>4</th>\n",
       "      <td>2020-04-06</td>\n",
       "      <td>CENTRAL</td>\n",
       "      <td>73</td>\n",
       "      <td>58</td>\n",
       "      <td>187</td>\n",
       "      <td>0</td>\n",
       "      <td>0</td>\n",
       "      <td>0</td>\n",
       "      <td>0</td>\n",
       "    </tr>\n",
       "    <tr>\n",
       "      <th>...</th>\n",
       "      <td>...</td>\n",
       "      <td>...</td>\n",
       "      <td>...</td>\n",
       "      <td>...</td>\n",
       "      <td>...</td>\n",
       "      <td>...</td>\n",
       "      <td>...</td>\n",
       "      <td>...</td>\n",
       "      <td>...</td>\n",
       "    </tr>\n",
       "    <tr>\n",
       "      <th>2850</th>\n",
       "      <td>2021-10-21</td>\n",
       "      <td>WEST</td>\n",
       "      <td>52</td>\n",
       "      <td>35</td>\n",
       "      <td>108</td>\n",
       "      <td>63</td>\n",
       "      <td>43</td>\n",
       "      <td>11</td>\n",
       "      <td>8</td>\n",
       "    </tr>\n",
       "    <tr>\n",
       "      <th>2851</th>\n",
       "      <td>2021-10-22</td>\n",
       "      <td>WEST</td>\n",
       "      <td>48</td>\n",
       "      <td>27</td>\n",
       "      <td>102</td>\n",
       "      <td>59</td>\n",
       "      <td>35</td>\n",
       "      <td>11</td>\n",
       "      <td>8</td>\n",
       "    </tr>\n",
       "    <tr>\n",
       "      <th>2852</th>\n",
       "      <td>2021-10-23</td>\n",
       "      <td>WEST</td>\n",
       "      <td>38</td>\n",
       "      <td>28</td>\n",
       "      <td>104</td>\n",
       "      <td>49</td>\n",
       "      <td>35</td>\n",
       "      <td>11</td>\n",
       "      <td>7</td>\n",
       "    </tr>\n",
       "    <tr>\n",
       "      <th>2853</th>\n",
       "      <td>2021-10-24</td>\n",
       "      <td>WEST</td>\n",
       "      <td>38</td>\n",
       "      <td>27</td>\n",
       "      <td>70</td>\n",
       "      <td>49</td>\n",
       "      <td>32</td>\n",
       "      <td>11</td>\n",
       "      <td>5</td>\n",
       "    </tr>\n",
       "    <tr>\n",
       "      <th>2854</th>\n",
       "      <td>2021-10-25</td>\n",
       "      <td>WEST</td>\n",
       "      <td>41</td>\n",
       "      <td>26</td>\n",
       "      <td>72</td>\n",
       "      <td>52</td>\n",
       "      <td>33</td>\n",
       "      <td>11</td>\n",
       "      <td>7</td>\n",
       "    </tr>\n",
       "  </tbody>\n",
       "</table>\n",
       "<p>2855 rows × 9 columns</p>\n",
       "</div>"
      ],
      "text/plain": [
       "            date oh_region  icu_current_covid  icu_current_covid_vented  \\\n",
       "0     2020-04-02   CENTRAL                 51                        39   \n",
       "1     2020-04-03   CENTRAL                 57                        52   \n",
       "2     2020-04-04   CENTRAL                 65                        57   \n",
       "3     2020-04-05   CENTRAL                 65                        55   \n",
       "4     2020-04-06   CENTRAL                 73                        58   \n",
       "...          ...       ...                ...                       ...   \n",
       "2850  2021-10-21      WEST                 52                        35   \n",
       "2851  2021-10-22      WEST                 48                        27   \n",
       "2852  2021-10-23      WEST                 38                        28   \n",
       "2853  2021-10-24      WEST                 38                        27   \n",
       "2854  2021-10-25      WEST                 41                        26   \n",
       "\n",
       "      hospitalizations  icu_crci_total  icu_crci_total_vented  \\\n",
       "0                  113               0                      0   \n",
       "1                  141               0                      0   \n",
       "2                  143               0                      0   \n",
       "3                  174               0                      0   \n",
       "4                  187               0                      0   \n",
       "...                ...             ...                    ...   \n",
       "2850               108              63                     43   \n",
       "2851               102              59                     35   \n",
       "2852               104              49                     35   \n",
       "2853                70              49                     32   \n",
       "2854                72              52                     33   \n",
       "\n",
       "      icu_former_covid  icu_former_covid_vented  \n",
       "0                    0                        0  \n",
       "1                    0                        0  \n",
       "2                    0                        0  \n",
       "3                    0                        0  \n",
       "4                    0                        0  \n",
       "...                ...                      ...  \n",
       "2850                11                        8  \n",
       "2851                11                        8  \n",
       "2852                11                        7  \n",
       "2853                11                        5  \n",
       "2854                11                        7  \n",
       "\n",
       "[2855 rows x 9 columns]"
      ]
     },
     "execution_count": 20,
     "metadata": {},
     "output_type": "execute_result"
    }
   ],
   "source": [
    "hospitality_dataset"
   ]
  },
  {
   "cell_type": "code",
   "execution_count": 21,
   "metadata": {},
   "outputs": [],
   "source": [
    "# convert dates type to yyyymmdd as INT\n",
    "mobility_dataset['date'] = mobility_dataset['date'].apply(convert_date).astype(int)\n",
    "hospitality_dataset['date'] = hospitality_dataset['date'].apply(convert_date).astype(int)"
   ]
  },
  {
   "cell_type": "code",
   "execution_count": 22,
   "metadata": {},
   "outputs": [
    {
     "data": {
      "text/html": [
       "<div>\n",
       "<style scoped>\n",
       "    .dataframe tbody tr th:only-of-type {\n",
       "        vertical-align: middle;\n",
       "    }\n",
       "\n",
       "    .dataframe tbody tr th {\n",
       "        vertical-align: top;\n",
       "    }\n",
       "\n",
       "    .dataframe thead th {\n",
       "        text-align: right;\n",
       "    }\n",
       "</style>\n",
       "<table border=\"1\" class=\"dataframe\">\n",
       "  <thead>\n",
       "    <tr style=\"text-align: right;\">\n",
       "      <th></th>\n",
       "      <th>date</th>\n",
       "      <th>oh_region</th>\n",
       "      <th>icu_current_covid</th>\n",
       "      <th>icu_current_covid_vented</th>\n",
       "      <th>hospitalizations</th>\n",
       "      <th>icu_crci_total</th>\n",
       "      <th>icu_crci_total_vented</th>\n",
       "      <th>icu_former_covid</th>\n",
       "      <th>icu_former_covid_vented</th>\n",
       "    </tr>\n",
       "  </thead>\n",
       "  <tbody>\n",
       "    <tr>\n",
       "      <th>0</th>\n",
       "      <td>20200402</td>\n",
       "      <td>CENTRAL</td>\n",
       "      <td>51</td>\n",
       "      <td>39</td>\n",
       "      <td>113</td>\n",
       "      <td>0</td>\n",
       "      <td>0</td>\n",
       "      <td>0</td>\n",
       "      <td>0</td>\n",
       "    </tr>\n",
       "    <tr>\n",
       "      <th>1</th>\n",
       "      <td>20200403</td>\n",
       "      <td>CENTRAL</td>\n",
       "      <td>57</td>\n",
       "      <td>52</td>\n",
       "      <td>141</td>\n",
       "      <td>0</td>\n",
       "      <td>0</td>\n",
       "      <td>0</td>\n",
       "      <td>0</td>\n",
       "    </tr>\n",
       "    <tr>\n",
       "      <th>2</th>\n",
       "      <td>20200404</td>\n",
       "      <td>CENTRAL</td>\n",
       "      <td>65</td>\n",
       "      <td>57</td>\n",
       "      <td>143</td>\n",
       "      <td>0</td>\n",
       "      <td>0</td>\n",
       "      <td>0</td>\n",
       "      <td>0</td>\n",
       "    </tr>\n",
       "    <tr>\n",
       "      <th>3</th>\n",
       "      <td>20200405</td>\n",
       "      <td>CENTRAL</td>\n",
       "      <td>65</td>\n",
       "      <td>55</td>\n",
       "      <td>174</td>\n",
       "      <td>0</td>\n",
       "      <td>0</td>\n",
       "      <td>0</td>\n",
       "      <td>0</td>\n",
       "    </tr>\n",
       "    <tr>\n",
       "      <th>4</th>\n",
       "      <td>20200406</td>\n",
       "      <td>CENTRAL</td>\n",
       "      <td>73</td>\n",
       "      <td>58</td>\n",
       "      <td>187</td>\n",
       "      <td>0</td>\n",
       "      <td>0</td>\n",
       "      <td>0</td>\n",
       "      <td>0</td>\n",
       "    </tr>\n",
       "    <tr>\n",
       "      <th>...</th>\n",
       "      <td>...</td>\n",
       "      <td>...</td>\n",
       "      <td>...</td>\n",
       "      <td>...</td>\n",
       "      <td>...</td>\n",
       "      <td>...</td>\n",
       "      <td>...</td>\n",
       "      <td>...</td>\n",
       "      <td>...</td>\n",
       "    </tr>\n",
       "    <tr>\n",
       "      <th>566</th>\n",
       "      <td>20211021</td>\n",
       "      <td>CENTRAL</td>\n",
       "      <td>35</td>\n",
       "      <td>21</td>\n",
       "      <td>87</td>\n",
       "      <td>46</td>\n",
       "      <td>30</td>\n",
       "      <td>11</td>\n",
       "      <td>9</td>\n",
       "    </tr>\n",
       "    <tr>\n",
       "      <th>567</th>\n",
       "      <td>20211022</td>\n",
       "      <td>CENTRAL</td>\n",
       "      <td>28</td>\n",
       "      <td>20</td>\n",
       "      <td>88</td>\n",
       "      <td>41</td>\n",
       "      <td>30</td>\n",
       "      <td>13</td>\n",
       "      <td>10</td>\n",
       "    </tr>\n",
       "    <tr>\n",
       "      <th>568</th>\n",
       "      <td>20211023</td>\n",
       "      <td>CENTRAL</td>\n",
       "      <td>26</td>\n",
       "      <td>20</td>\n",
       "      <td>89</td>\n",
       "      <td>39</td>\n",
       "      <td>31</td>\n",
       "      <td>13</td>\n",
       "      <td>11</td>\n",
       "    </tr>\n",
       "    <tr>\n",
       "      <th>569</th>\n",
       "      <td>20211024</td>\n",
       "      <td>CENTRAL</td>\n",
       "      <td>29</td>\n",
       "      <td>22</td>\n",
       "      <td>58</td>\n",
       "      <td>42</td>\n",
       "      <td>33</td>\n",
       "      <td>13</td>\n",
       "      <td>11</td>\n",
       "    </tr>\n",
       "    <tr>\n",
       "      <th>570</th>\n",
       "      <td>20211025</td>\n",
       "      <td>CENTRAL</td>\n",
       "      <td>29</td>\n",
       "      <td>21</td>\n",
       "      <td>56</td>\n",
       "      <td>41</td>\n",
       "      <td>32</td>\n",
       "      <td>12</td>\n",
       "      <td>11</td>\n",
       "    </tr>\n",
       "  </tbody>\n",
       "</table>\n",
       "<p>571 rows × 9 columns</p>\n",
       "</div>"
      ],
      "text/plain": [
       "         date oh_region  icu_current_covid  icu_current_covid_vented  \\\n",
       "0    20200402   CENTRAL                 51                        39   \n",
       "1    20200403   CENTRAL                 57                        52   \n",
       "2    20200404   CENTRAL                 65                        57   \n",
       "3    20200405   CENTRAL                 65                        55   \n",
       "4    20200406   CENTRAL                 73                        58   \n",
       "..        ...       ...                ...                       ...   \n",
       "566  20211021   CENTRAL                 35                        21   \n",
       "567  20211022   CENTRAL                 28                        20   \n",
       "568  20211023   CENTRAL                 26                        20   \n",
       "569  20211024   CENTRAL                 29                        22   \n",
       "570  20211025   CENTRAL                 29                        21   \n",
       "\n",
       "     hospitalizations  icu_crci_total  icu_crci_total_vented  \\\n",
       "0                 113               0                      0   \n",
       "1                 141               0                      0   \n",
       "2                 143               0                      0   \n",
       "3                 174               0                      0   \n",
       "4                 187               0                      0   \n",
       "..                ...             ...                    ...   \n",
       "566                87              46                     30   \n",
       "567                88              41                     30   \n",
       "568                89              39                     31   \n",
       "569                58              42                     33   \n",
       "570                56              41                     32   \n",
       "\n",
       "     icu_former_covid  icu_former_covid_vented  \n",
       "0                   0                        0  \n",
       "1                   0                        0  \n",
       "2                   0                        0  \n",
       "3                   0                        0  \n",
       "4                   0                        0  \n",
       "..                ...                      ...  \n",
       "566                11                        9  \n",
       "567                13                       10  \n",
       "568                13                       11  \n",
       "569                13                       11  \n",
       "570                12                       11  \n",
       "\n",
       "[571 rows x 9 columns]"
      ]
     },
     "execution_count": 22,
     "metadata": {},
     "output_type": "execute_result"
    }
   ],
   "source": [
    "hospitality_dataset[hospitality_dataset['oh_region'] == 'CENTRAL']"
   ]
  },
  {
   "cell_type": "code",
   "execution_count": 23,
   "metadata": {},
   "outputs": [],
   "source": [
    "'''\n",
    "Here the hospitality_dataset is on regions in ON, want to sum over regions to construct dataset over the whole ON. \n",
    "'''\n",
    "regions = hospitality_dataset['oh_region'].unique()\n",
    "centrals = hospitality_dataset[hospitality_dataset['oh_region'] == 'CENTRAL']\n",
    "easts = hospitality_dataset[hospitality_dataset['oh_region'] == 'EAST']\n",
    "norths = hospitality_dataset[hospitality_dataset['oh_region'] == 'NORTH']\n",
    "torontos = hospitality_dataset[hospitality_dataset['oh_region'] == 'TORONTO']\n",
    "wests = hospitality_dataset[hospitality_dataset['oh_region'] == 'WEST']\n",
    "check_same_dates = np.array_equal(np.array(centrals['date']), np.array(easts['date'])) and np.array_equal(np.array(centrals['date']), np.array(norths['date'])) and np.array_equal(np.array(centrals['date']), np.array(norths['date'])) and np.array_equal(np.array(centrals['date']), np.array(torontos['date'])) and np.array_equal(np.array(centrals['date']), np.array(wests['date']))"
   ]
  },
  {
   "cell_type": "code",
   "execution_count": 24,
   "metadata": {},
   "outputs": [
    {
     "data": {
      "text/plain": [
       "array(['CENTRAL', 'EAST', 'NORTH', 'TORONTO', 'WEST'], dtype=object)"
      ]
     },
     "execution_count": 24,
     "metadata": {},
     "output_type": "execute_result"
    }
   ],
   "source": [
    "regions"
   ]
  },
  {
   "cell_type": "code",
   "execution_count": 25,
   "metadata": {},
   "outputs": [
    {
     "data": {
      "text/html": [
       "<div>\n",
       "<style scoped>\n",
       "    .dataframe tbody tr th:only-of-type {\n",
       "        vertical-align: middle;\n",
       "    }\n",
       "\n",
       "    .dataframe tbody tr th {\n",
       "        vertical-align: top;\n",
       "    }\n",
       "\n",
       "    .dataframe thead th {\n",
       "        text-align: right;\n",
       "    }\n",
       "</style>\n",
       "<table border=\"1\" class=\"dataframe\">\n",
       "  <thead>\n",
       "    <tr style=\"text-align: right;\">\n",
       "      <th></th>\n",
       "      <th>date</th>\n",
       "      <th>oh_region</th>\n",
       "      <th>icu_current_covid</th>\n",
       "      <th>icu_current_covid_vented</th>\n",
       "      <th>hospitalizations</th>\n",
       "      <th>icu_crci_total</th>\n",
       "      <th>icu_crci_total_vented</th>\n",
       "      <th>icu_former_covid</th>\n",
       "      <th>icu_former_covid_vented</th>\n",
       "    </tr>\n",
       "  </thead>\n",
       "  <tbody>\n",
       "    <tr>\n",
       "      <th>0</th>\n",
       "      <td>20200402</td>\n",
       "      <td>CENTRAL</td>\n",
       "      <td>51</td>\n",
       "      <td>39</td>\n",
       "      <td>113</td>\n",
       "      <td>0</td>\n",
       "      <td>0</td>\n",
       "      <td>0</td>\n",
       "      <td>0</td>\n",
       "    </tr>\n",
       "    <tr>\n",
       "      <th>1</th>\n",
       "      <td>20200403</td>\n",
       "      <td>CENTRAL</td>\n",
       "      <td>57</td>\n",
       "      <td>52</td>\n",
       "      <td>141</td>\n",
       "      <td>0</td>\n",
       "      <td>0</td>\n",
       "      <td>0</td>\n",
       "      <td>0</td>\n",
       "    </tr>\n",
       "    <tr>\n",
       "      <th>2</th>\n",
       "      <td>20200404</td>\n",
       "      <td>CENTRAL</td>\n",
       "      <td>65</td>\n",
       "      <td>57</td>\n",
       "      <td>143</td>\n",
       "      <td>0</td>\n",
       "      <td>0</td>\n",
       "      <td>0</td>\n",
       "      <td>0</td>\n",
       "    </tr>\n",
       "    <tr>\n",
       "      <th>3</th>\n",
       "      <td>20200405</td>\n",
       "      <td>CENTRAL</td>\n",
       "      <td>65</td>\n",
       "      <td>55</td>\n",
       "      <td>174</td>\n",
       "      <td>0</td>\n",
       "      <td>0</td>\n",
       "      <td>0</td>\n",
       "      <td>0</td>\n",
       "    </tr>\n",
       "    <tr>\n",
       "      <th>4</th>\n",
       "      <td>20200406</td>\n",
       "      <td>CENTRAL</td>\n",
       "      <td>73</td>\n",
       "      <td>58</td>\n",
       "      <td>187</td>\n",
       "      <td>0</td>\n",
       "      <td>0</td>\n",
       "      <td>0</td>\n",
       "      <td>0</td>\n",
       "    </tr>\n",
       "    <tr>\n",
       "      <th>...</th>\n",
       "      <td>...</td>\n",
       "      <td>...</td>\n",
       "      <td>...</td>\n",
       "      <td>...</td>\n",
       "      <td>...</td>\n",
       "      <td>...</td>\n",
       "      <td>...</td>\n",
       "      <td>...</td>\n",
       "      <td>...</td>\n",
       "    </tr>\n",
       "    <tr>\n",
       "      <th>566</th>\n",
       "      <td>20211021</td>\n",
       "      <td>CENTRAL</td>\n",
       "      <td>35</td>\n",
       "      <td>21</td>\n",
       "      <td>87</td>\n",
       "      <td>46</td>\n",
       "      <td>30</td>\n",
       "      <td>11</td>\n",
       "      <td>9</td>\n",
       "    </tr>\n",
       "    <tr>\n",
       "      <th>567</th>\n",
       "      <td>20211022</td>\n",
       "      <td>CENTRAL</td>\n",
       "      <td>28</td>\n",
       "      <td>20</td>\n",
       "      <td>88</td>\n",
       "      <td>41</td>\n",
       "      <td>30</td>\n",
       "      <td>13</td>\n",
       "      <td>10</td>\n",
       "    </tr>\n",
       "    <tr>\n",
       "      <th>568</th>\n",
       "      <td>20211023</td>\n",
       "      <td>CENTRAL</td>\n",
       "      <td>26</td>\n",
       "      <td>20</td>\n",
       "      <td>89</td>\n",
       "      <td>39</td>\n",
       "      <td>31</td>\n",
       "      <td>13</td>\n",
       "      <td>11</td>\n",
       "    </tr>\n",
       "    <tr>\n",
       "      <th>569</th>\n",
       "      <td>20211024</td>\n",
       "      <td>CENTRAL</td>\n",
       "      <td>29</td>\n",
       "      <td>22</td>\n",
       "      <td>58</td>\n",
       "      <td>42</td>\n",
       "      <td>33</td>\n",
       "      <td>13</td>\n",
       "      <td>11</td>\n",
       "    </tr>\n",
       "    <tr>\n",
       "      <th>570</th>\n",
       "      <td>20211025</td>\n",
       "      <td>CENTRAL</td>\n",
       "      <td>29</td>\n",
       "      <td>21</td>\n",
       "      <td>56</td>\n",
       "      <td>41</td>\n",
       "      <td>32</td>\n",
       "      <td>12</td>\n",
       "      <td>11</td>\n",
       "    </tr>\n",
       "  </tbody>\n",
       "</table>\n",
       "<p>571 rows × 9 columns</p>\n",
       "</div>"
      ],
      "text/plain": [
       "         date oh_region  icu_current_covid  icu_current_covid_vented  \\\n",
       "0    20200402   CENTRAL                 51                        39   \n",
       "1    20200403   CENTRAL                 57                        52   \n",
       "2    20200404   CENTRAL                 65                        57   \n",
       "3    20200405   CENTRAL                 65                        55   \n",
       "4    20200406   CENTRAL                 73                        58   \n",
       "..        ...       ...                ...                       ...   \n",
       "566  20211021   CENTRAL                 35                        21   \n",
       "567  20211022   CENTRAL                 28                        20   \n",
       "568  20211023   CENTRAL                 26                        20   \n",
       "569  20211024   CENTRAL                 29                        22   \n",
       "570  20211025   CENTRAL                 29                        21   \n",
       "\n",
       "     hospitalizations  icu_crci_total  icu_crci_total_vented  \\\n",
       "0                 113               0                      0   \n",
       "1                 141               0                      0   \n",
       "2                 143               0                      0   \n",
       "3                 174               0                      0   \n",
       "4                 187               0                      0   \n",
       "..                ...             ...                    ...   \n",
       "566                87              46                     30   \n",
       "567                88              41                     30   \n",
       "568                89              39                     31   \n",
       "569                58              42                     33   \n",
       "570                56              41                     32   \n",
       "\n",
       "     icu_former_covid  icu_former_covid_vented  \n",
       "0                   0                        0  \n",
       "1                   0                        0  \n",
       "2                   0                        0  \n",
       "3                   0                        0  \n",
       "4                   0                        0  \n",
       "..                ...                      ...  \n",
       "566                11                        9  \n",
       "567                13                       10  \n",
       "568                13                       11  \n",
       "569                13                       11  \n",
       "570                12                       11  \n",
       "\n",
       "[571 rows x 9 columns]"
      ]
     },
     "execution_count": 25,
     "metadata": {},
     "output_type": "execute_result"
    }
   ],
   "source": [
    "assert check_same_dates == True, print('dates in regions are not the same')\n",
    "centrals\n"
   ]
  },
  {
   "cell_type": "code",
   "execution_count": 26,
   "metadata": {},
   "outputs": [
    {
     "data": {
      "text/plain": [
       "['icu_current_covid',\n",
       " 'icu_current_covid_vented',\n",
       " 'hospitalizations',\n",
       " 'icu_crci_total',\n",
       " 'icu_crci_total_vented',\n",
       " 'icu_former_covid',\n",
       " 'icu_former_covid_vented']"
      ]
     },
     "execution_count": 26,
     "metadata": {},
     "output_type": "execute_result"
    }
   ],
   "source": [
    "col_names = centrals.columns.tolist()[2:]\n",
    "col_names"
   ]
  },
  {
   "cell_type": "code",
   "execution_count": 27,
   "metadata": {},
   "outputs": [
    {
     "name": "stderr",
     "output_type": "stream",
     "text": [
      "/var/folders/7_/yd2c8wld3sggx9gtmv9ydwm80000gn/T/ipykernel_31692/3694095269.py:5: SettingWithCopyWarning: \n",
      "A value is trying to be set on a copy of a slice from a DataFrame.\n",
      "Try using .loc[row_indexer,col_indexer] = value instead\n",
      "\n",
      "See the caveats in the documentation: https://pandas.pydata.org/pandas-docs/stable/user_guide/indexing.html#returning-a-view-versus-a-copy\n",
      "  total_hospitality_dataset['oh_region'] = 'ALL'\n",
      "/var/folders/7_/yd2c8wld3sggx9gtmv9ydwm80000gn/T/ipykernel_31692/3694095269.py:8: SettingWithCopyWarning: \n",
      "A value is trying to be set on a copy of a slice from a DataFrame.\n",
      "Try using .loc[row_indexer,col_indexer] = value instead\n",
      "\n",
      "See the caveats in the documentation: https://pandas.pydata.org/pandas-docs/stable/user_guide/indexing.html#returning-a-view-versus-a-copy\n",
      "  total_hospitality_dataset[name] = np.array(centrals[name]) + np.array(easts[name]) + np.array(norths[name]) + np.array(torontos[name]) + np.array(wests[name])\n",
      "/var/folders/7_/yd2c8wld3sggx9gtmv9ydwm80000gn/T/ipykernel_31692/3694095269.py:8: SettingWithCopyWarning: \n",
      "A value is trying to be set on a copy of a slice from a DataFrame.\n",
      "Try using .loc[row_indexer,col_indexer] = value instead\n",
      "\n",
      "See the caveats in the documentation: https://pandas.pydata.org/pandas-docs/stable/user_guide/indexing.html#returning-a-view-versus-a-copy\n",
      "  total_hospitality_dataset[name] = np.array(centrals[name]) + np.array(easts[name]) + np.array(norths[name]) + np.array(torontos[name]) + np.array(wests[name])\n",
      "/var/folders/7_/yd2c8wld3sggx9gtmv9ydwm80000gn/T/ipykernel_31692/3694095269.py:8: SettingWithCopyWarning: \n",
      "A value is trying to be set on a copy of a slice from a DataFrame.\n",
      "Try using .loc[row_indexer,col_indexer] = value instead\n",
      "\n",
      "See the caveats in the documentation: https://pandas.pydata.org/pandas-docs/stable/user_guide/indexing.html#returning-a-view-versus-a-copy\n",
      "  total_hospitality_dataset[name] = np.array(centrals[name]) + np.array(easts[name]) + np.array(norths[name]) + np.array(torontos[name]) + np.array(wests[name])\n",
      "/var/folders/7_/yd2c8wld3sggx9gtmv9ydwm80000gn/T/ipykernel_31692/3694095269.py:8: SettingWithCopyWarning: \n",
      "A value is trying to be set on a copy of a slice from a DataFrame.\n",
      "Try using .loc[row_indexer,col_indexer] = value instead\n",
      "\n",
      "See the caveats in the documentation: https://pandas.pydata.org/pandas-docs/stable/user_guide/indexing.html#returning-a-view-versus-a-copy\n",
      "  total_hospitality_dataset[name] = np.array(centrals[name]) + np.array(easts[name]) + np.array(norths[name]) + np.array(torontos[name]) + np.array(wests[name])\n",
      "/var/folders/7_/yd2c8wld3sggx9gtmv9ydwm80000gn/T/ipykernel_31692/3694095269.py:8: SettingWithCopyWarning: \n",
      "A value is trying to be set on a copy of a slice from a DataFrame.\n",
      "Try using .loc[row_indexer,col_indexer] = value instead\n",
      "\n",
      "See the caveats in the documentation: https://pandas.pydata.org/pandas-docs/stable/user_guide/indexing.html#returning-a-view-versus-a-copy\n",
      "  total_hospitality_dataset[name] = np.array(centrals[name]) + np.array(easts[name]) + np.array(norths[name]) + np.array(torontos[name]) + np.array(wests[name])\n",
      "/var/folders/7_/yd2c8wld3sggx9gtmv9ydwm80000gn/T/ipykernel_31692/3694095269.py:8: SettingWithCopyWarning: \n",
      "A value is trying to be set on a copy of a slice from a DataFrame.\n",
      "Try using .loc[row_indexer,col_indexer] = value instead\n",
      "\n",
      "See the caveats in the documentation: https://pandas.pydata.org/pandas-docs/stable/user_guide/indexing.html#returning-a-view-versus-a-copy\n",
      "  total_hospitality_dataset[name] = np.array(centrals[name]) + np.array(easts[name]) + np.array(norths[name]) + np.array(torontos[name]) + np.array(wests[name])\n"
     ]
    },
    {
     "data": {
      "text/html": [
       "<div>\n",
       "<style scoped>\n",
       "    .dataframe tbody tr th:only-of-type {\n",
       "        vertical-align: middle;\n",
       "    }\n",
       "\n",
       "    .dataframe tbody tr th {\n",
       "        vertical-align: top;\n",
       "    }\n",
       "\n",
       "    .dataframe thead th {\n",
       "        text-align: right;\n",
       "    }\n",
       "</style>\n",
       "<table border=\"1\" class=\"dataframe\">\n",
       "  <thead>\n",
       "    <tr style=\"text-align: right;\">\n",
       "      <th></th>\n",
       "      <th>date</th>\n",
       "      <th>oh_region</th>\n",
       "      <th>icu_current_covid</th>\n",
       "      <th>icu_current_covid_vented</th>\n",
       "      <th>hospitalizations</th>\n",
       "      <th>icu_crci_total</th>\n",
       "      <th>icu_crci_total_vented</th>\n",
       "      <th>icu_former_covid</th>\n",
       "      <th>icu_former_covid_vented</th>\n",
       "    </tr>\n",
       "  </thead>\n",
       "  <tbody>\n",
       "    <tr>\n",
       "      <th>0</th>\n",
       "      <td>20200402</td>\n",
       "      <td>ALL</td>\n",
       "      <td>167</td>\n",
       "      <td>112</td>\n",
       "      <td>407</td>\n",
       "      <td>0</td>\n",
       "      <td>0</td>\n",
       "      <td>0</td>\n",
       "      <td>0</td>\n",
       "    </tr>\n",
       "    <tr>\n",
       "      <th>1</th>\n",
       "      <td>20200403</td>\n",
       "      <td>ALL</td>\n",
       "      <td>194</td>\n",
       "      <td>140</td>\n",
       "      <td>446</td>\n",
       "      <td>0</td>\n",
       "      <td>0</td>\n",
       "      <td>0</td>\n",
       "      <td>0</td>\n",
       "    </tr>\n",
       "    <tr>\n",
       "      <th>2</th>\n",
       "      <td>20200404</td>\n",
       "      <td>ALL</td>\n",
       "      <td>190</td>\n",
       "      <td>149</td>\n",
       "      <td>475</td>\n",
       "      <td>0</td>\n",
       "      <td>0</td>\n",
       "      <td>0</td>\n",
       "      <td>0</td>\n",
       "    </tr>\n",
       "    <tr>\n",
       "      <th>3</th>\n",
       "      <td>20200405</td>\n",
       "      <td>ALL</td>\n",
       "      <td>200</td>\n",
       "      <td>154</td>\n",
       "      <td>508</td>\n",
       "      <td>0</td>\n",
       "      <td>0</td>\n",
       "      <td>0</td>\n",
       "      <td>0</td>\n",
       "    </tr>\n",
       "    <tr>\n",
       "      <th>4</th>\n",
       "      <td>20200406</td>\n",
       "      <td>ALL</td>\n",
       "      <td>216</td>\n",
       "      <td>160</td>\n",
       "      <td>576</td>\n",
       "      <td>0</td>\n",
       "      <td>0</td>\n",
       "      <td>0</td>\n",
       "      <td>0</td>\n",
       "    </tr>\n",
       "    <tr>\n",
       "      <th>...</th>\n",
       "      <td>...</td>\n",
       "      <td>...</td>\n",
       "      <td>...</td>\n",
       "      <td>...</td>\n",
       "      <td>...</td>\n",
       "      <td>...</td>\n",
       "      <td>...</td>\n",
       "      <td>...</td>\n",
       "      <td>...</td>\n",
       "    </tr>\n",
       "    <tr>\n",
       "      <th>566</th>\n",
       "      <td>20211021</td>\n",
       "      <td>ALL</td>\n",
       "      <td>135</td>\n",
       "      <td>86</td>\n",
       "      <td>274</td>\n",
       "      <td>161</td>\n",
       "      <td>107</td>\n",
       "      <td>26</td>\n",
       "      <td>21</td>\n",
       "    </tr>\n",
       "    <tr>\n",
       "      <th>567</th>\n",
       "      <td>20211022</td>\n",
       "      <td>ALL</td>\n",
       "      <td>121</td>\n",
       "      <td>72</td>\n",
       "      <td>261</td>\n",
       "      <td>149</td>\n",
       "      <td>94</td>\n",
       "      <td>28</td>\n",
       "      <td>22</td>\n",
       "    </tr>\n",
       "    <tr>\n",
       "      <th>568</th>\n",
       "      <td>20211023</td>\n",
       "      <td>ALL</td>\n",
       "      <td>107</td>\n",
       "      <td>73</td>\n",
       "      <td>269</td>\n",
       "      <td>136</td>\n",
       "      <td>96</td>\n",
       "      <td>29</td>\n",
       "      <td>23</td>\n",
       "    </tr>\n",
       "    <tr>\n",
       "      <th>569</th>\n",
       "      <td>20211024</td>\n",
       "      <td>ALL</td>\n",
       "      <td>107</td>\n",
       "      <td>76</td>\n",
       "      <td>164</td>\n",
       "      <td>137</td>\n",
       "      <td>97</td>\n",
       "      <td>30</td>\n",
       "      <td>21</td>\n",
       "    </tr>\n",
       "    <tr>\n",
       "      <th>570</th>\n",
       "      <td>20211025</td>\n",
       "      <td>ALL</td>\n",
       "      <td>109</td>\n",
       "      <td>71</td>\n",
       "      <td>163</td>\n",
       "      <td>138</td>\n",
       "      <td>94</td>\n",
       "      <td>29</td>\n",
       "      <td>23</td>\n",
       "    </tr>\n",
       "  </tbody>\n",
       "</table>\n",
       "<p>571 rows × 9 columns</p>\n",
       "</div>"
      ],
      "text/plain": [
       "         date oh_region  icu_current_covid  icu_current_covid_vented  \\\n",
       "0    20200402       ALL                167                       112   \n",
       "1    20200403       ALL                194                       140   \n",
       "2    20200404       ALL                190                       149   \n",
       "3    20200405       ALL                200                       154   \n",
       "4    20200406       ALL                216                       160   \n",
       "..        ...       ...                ...                       ...   \n",
       "566  20211021       ALL                135                        86   \n",
       "567  20211022       ALL                121                        72   \n",
       "568  20211023       ALL                107                        73   \n",
       "569  20211024       ALL                107                        76   \n",
       "570  20211025       ALL                109                        71   \n",
       "\n",
       "     hospitalizations  icu_crci_total  icu_crci_total_vented  \\\n",
       "0                 407               0                      0   \n",
       "1                 446               0                      0   \n",
       "2                 475               0                      0   \n",
       "3                 508               0                      0   \n",
       "4                 576               0                      0   \n",
       "..                ...             ...                    ...   \n",
       "566               274             161                    107   \n",
       "567               261             149                     94   \n",
       "568               269             136                     96   \n",
       "569               164             137                     97   \n",
       "570               163             138                     94   \n",
       "\n",
       "     icu_former_covid  icu_former_covid_vented  \n",
       "0                   0                        0  \n",
       "1                   0                        0  \n",
       "2                   0                        0  \n",
       "3                   0                        0  \n",
       "4                   0                        0  \n",
       "..                ...                      ...  \n",
       "566                26                       21  \n",
       "567                28                       22  \n",
       "568                29                       23  \n",
       "569                30                       21  \n",
       "570                29                       23  \n",
       "\n",
       "[571 rows x 9 columns]"
      ]
     },
     "execution_count": 27,
     "metadata": {},
     "output_type": "execute_result"
    }
   ],
   "source": [
    "# construct total_hospitality_dataset, summed over all regions\n",
    "total_hospitality_dataset = pd.DataFrame(columns=[])\n",
    "\n",
    "total_hospitality_dataset = centrals[['date']]\n",
    "total_hospitality_dataset['oh_region'] = 'ALL'\n",
    "#total_hospitality_dataset['icu_current_covid'] = np.array(centrals['icu_current_covid']) + np.array(easts['icu_current_covid'].tolist())\n",
    "for name in col_names: \n",
    "    total_hospitality_dataset[name] = np.array(centrals[name]) + np.array(easts[name]) + np.array(norths[name]) + np.array(torontos[name]) + np.array(wests[name]) \n",
    "\n",
    "total_hospitality_dataset"
   ]
  },
  {
   "cell_type": "code",
   "execution_count": 28,
   "metadata": {},
   "outputs": [],
   "source": [
    "total_hospitality_dates = np.array(total_hospitality_dataset['date'])\n",
    "mobility_dates = np.array(mobility_dataset['date'])\n",
    "\n",
    "identical_dates = np.intersect1d(total_hospitality_dates, mobility_dates)\n",
    "indexes_in_total_hospitality_dates = np.where(np.isin(total_hospitality_dates, identical_dates))[0]\n",
    "indexes_in_mobility_dates = np.where(np.isin(mobility_dates, identical_dates))[0]"
   ]
  },
  {
   "cell_type": "code",
   "execution_count": 29,
   "metadata": {},
   "outputs": [],
   "source": [
    "assert np.array_equal(total_hospitality_dates[indexes_in_total_hospitality_dates], mobility_dates[indexes_in_mobility_dates])"
   ]
  },
  {
   "cell_type": "code",
   "execution_count": 30,
   "metadata": {},
   "outputs": [],
   "source": [
    "\n",
    "hospitalization = np.array(total_hospitality_dataset['hospitalizations'][indexes_in_total_hospitality_dates])\n",
    "mobility = np.array(mobility_dataset['workplaces_percent_change_from_baseline'][indexes_in_mobility_dates])"
   ]
  },
  {
   "cell_type": "code",
   "execution_count": 31,
   "metadata": {},
   "outputs": [
    {
     "data": {
      "text/plain": [
       "Text(0, 0.5, 'hospitalizations')"
      ]
     },
     "execution_count": 31,
     "metadata": {},
     "output_type": "execute_result"
    },
    {
     "data": {
      "image/png": "[encoded data removed]",
      "text/plain": [
       "<Figure size 640x480 with 1 Axes>"
      ]
     },
     "metadata": {},
     "output_type": "display_data"
    }
   ],
   "source": [
    "plt.scatter(total_hospitality_dates[indexes_in_total_hospitality_dates], hospitalization,s=5, alpha=0.3)\n",
    "\n",
    "plt.xlabel('dates')\n",
    "plt.ylabel('hospitalizations')"
   ]
  },
  {
   "cell_type": "code",
   "execution_count": 32,
   "metadata": {},
   "outputs": [
    {
     "data": {
      "text/plain": [
       "Text(0, 0.5, 'mobility')"
      ]
     },
     "execution_count": 32,
     "metadata": {},
     "output_type": "execute_result"
    },
    {
     "data": {
      "image/png": "[encoded data removed]",
      "text/plain": [
       "<Figure size 640x480 with 1 Axes>"
      ]
     },
     "metadata": {},
     "output_type": "display_data"
    }
   ],
   "source": [
    "plt.scatter(mobility_dates[indexes_in_mobility_dates], mobility,s=5, alpha=0.3)\n",
    "\n",
    "plt.xlabel('dates')\n",
    "plt.ylabel('mobility')"
   ]
  },
  {
   "cell_type": "code",
   "execution_count": 33,
   "metadata": {},
   "outputs": [
    {
     "data": {
      "text/plain": [
       "-0.3494340419388468"
      ]
     },
     "execution_count": 33,
     "metadata": {},
     "output_type": "execute_result"
    }
   ],
   "source": [
    "r_hospitalization_mobility = np.corrcoef(mobility, hospitalization)[0,1]\n",
    "r_hospitalization_mobility"
   ]
  },
  {
   "cell_type": "code",
   "execution_count": 44,
   "metadata": {},
   "outputs": [],
   "source": [
    "# Linear regression to compute r_i\n",
    "hospitalization = hospitalization.reshape(-1,1)\n",
    "modeli = LinearRegression().fit(hospitalization, mobility)"
   ]
  },
  {
   "cell_type": "code",
   "execution_count": 45,
   "metadata": {},
   "outputs": [
    {
     "data": {
      "text/plain": [
       "0.12210414966571959"
      ]
     },
     "execution_count": 45,
     "metadata": {},
     "output_type": "execute_result"
    }
   ],
   "source": [
    "modeli.score(hospitalization, mobility)"
   ]
  },
  {
   "cell_type": "code",
   "execution_count": 46,
   "metadata": {},
   "outputs": [
    {
     "data": {
      "text/plain": [
       "(array([-0.01854903]), -29.33900549575587)"
      ]
     },
     "execution_count": 46,
     "metadata": {},
     "output_type": "execute_result"
    }
   ],
   "source": [
    "modeli.coef_, modeli.intercept_"
   ]
  },
  {
   "cell_type": "code",
   "execution_count": 47,
   "metadata": {},
   "outputs": [],
   "source": [
    "ri = modeli.intercept_"
   ]
  },
  {
   "cell_type": "code",
   "execution_count": null,
   "metadata": {},
   "outputs": [],
   "source": []
  }
 ],
 "metadata": {
  "kernelspec": {
   "display_name": "base",
   "language": "python",
   "name": "python3"
  },
  "language_info": {
   "codemirror_mode": {
    "name": "ipython",
    "version": 3
   },
   "file_extension": ".py",
   "mimetype": "text/x-python",
   "name": "python",
   "nbconvert_exporter": "python",
   "pygments_lexer": "ipython3",
   "version": "3.10.9"
  },
  "orig_nbformat": 4
 },
 "nbformat": 4,
 "nbformat_minor": 2
}
